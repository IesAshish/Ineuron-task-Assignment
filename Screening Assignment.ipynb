{
 "cells": [
  {
   "cell_type": "markdown",
   "id": "31076751",
   "metadata": {},
   "source": [
    "### 1. Create a function in python to read the text file and replace specific content of the file."
   ]
  },
  {
   "cell_type": "code",
   "execution_count": 39,
   "id": "da5e072a",
   "metadata": {},
   "outputs": [],
   "source": [
    "def read_file(file_name,search_word, replace_word):\n",
    "    try: \n",
    "        with open(file_name,\"w\") as file:\n",
    "            file.write(input(\"Enter your sentence: \"))\n",
    "        with open(file_name,\"r\") as file:\n",
    "            word_file=file.read()\n",
    "            word_file = word_file.replace(search_word,replace_word)\n",
    "        with open(file_name,\"w\") as file:\n",
    "            file.write(word_file)\n",
    "    except FileNotFoundError as f:\n",
    "        print(\"Could not find the file you are trying to read.\")\n",
    "    return \"Text Replaced\""
   ]
  },
  {
   "cell_type": "code",
   "execution_count": 42,
   "id": "03e590dd",
   "metadata": {},
   "outputs": [
    {
     "name": "stdout",
     "output_type": "stream",
     "text": [
      "Enter your sentence: This is a placement assignment\n"
     ]
    },
    {
     "data": {
      "text/plain": [
       "'Text Replaced'"
      ]
     },
     "execution_count": 42,
     "metadata": {},
     "output_type": "execute_result"
    }
   ],
   "source": [
    "read_file(\"Example.txt\",\"placement\",\"screening\")\n"
   ]
  },
  {
   "cell_type": "markdown",
   "id": "ce6a7973",
   "metadata": {},
   "source": [
    "### 2. Demonstrate use of abstract class, multiple inheritance and decorator in python using examples."
   ]
  },
  {
   "cell_type": "code",
   "execution_count": 56,
   "id": "75471be3",
   "metadata": {},
   "outputs": [],
   "source": [
    "from abc import ABC,abstractmethod\n",
    "class House(ABC):\n",
    "    @abstractmethod\n",
    "    def built(self):\n",
    "        pass\n",
    "class pakka_house(House):\n",
    "    def built(self):\n",
    "        return \"This house is made up of Iron & Bricks\"\n",
    "\n",
    "class kaccha_house(House):\n",
    "    def built(self):\n",
    "        return \"This house is made up of mud and bamboo\"\n",
    "\n",
    "class igloo(House):\n",
    "    def built(self):\n",
    "        return \"This House is made up of Snow\"\n",
    "\n",
    "class tent(House):\n",
    "    def built(self):\n",
    "        return \"This house is made up of tarpaulin\""
   ]
  },
  {
   "cell_type": "code",
   "execution_count": 57,
   "id": "ac719ffc",
   "metadata": {},
   "outputs": [
    {
     "data": {
      "text/plain": [
       "'This house is made up of Iron & Bricks'"
      ]
     },
     "execution_count": 57,
     "metadata": {},
     "output_type": "execute_result"
    }
   ],
   "source": [
    "P = pakka_house()\n",
    "P.built()"
   ]
  },
  {
   "cell_type": "code",
   "execution_count": 58,
   "id": "24f40819",
   "metadata": {},
   "outputs": [
    {
     "data": {
      "text/plain": [
       "'This House is made up of Snow'"
      ]
     },
     "execution_count": 58,
     "metadata": {},
     "output_type": "execute_result"
    }
   ],
   "source": [
    "I = igloo()\n",
    "I.built()"
   ]
  },
  {
   "cell_type": "code",
   "execution_count": null,
   "id": "41cd4dce",
   "metadata": {},
   "outputs": [],
   "source": []
  }
 ],
 "metadata": {
  "kernelspec": {
   "display_name": "Python 3 (ipykernel)",
   "language": "python",
   "name": "python3"
  },
  "language_info": {
   "codemirror_mode": {
    "name": "ipython",
    "version": 3
   },
   "file_extension": ".py",
   "mimetype": "text/x-python",
   "name": "python",
   "nbconvert_exporter": "python",
   "pygments_lexer": "ipython3",
   "version": "3.9.7"
  }
 },
 "nbformat": 4,
 "nbformat_minor": 5
}
